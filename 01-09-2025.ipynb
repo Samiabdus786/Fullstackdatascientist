{
 "cells": [
  {
   "cell_type": "code",
   "execution_count": 1,
   "id": "a1a10ba2",
   "metadata": {},
   "outputs": [
    {
     "name": "stdout",
     "output_type": "stream",
     "text": [
      "10\n",
      "5\n"
     ]
    }
   ],
   "source": [
    "a = 5\n",
    "b = 10\n",
    "a = a ^ b\n",
    "b = a ^ b\n",
    "a = a ^ b\n",
    "print(a)\n",
    "print(b)"
   ]
  },
  {
   "cell_type": "code",
   "execution_count": 2,
   "id": "c9e541d0",
   "metadata": {},
   "outputs": [
    {
     "name": "stdout",
     "output_type": "stream",
     "text": [
      "yobdoog\n"
     ]
    }
   ],
   "source": [
    "def rev(s):\n",
    "    r = \"\"\n",
    "    for i in range(len(s) - 1, -1, -1):\n",
    "        r += s[i]\n",
    "    return r\n",
    "t =\"goodboy\"\n",
    "print(rev(t))"
   ]
  },
  {
   "cell_type": "code",
   "execution_count": 1,
   "id": "ead9cb8e",
   "metadata": {},
   "outputs": [
    {
     "name": "stdout",
     "output_type": "stream",
     "text": [
      "ARMSTRIONG NUMNBER\n"
     ]
    }
   ],
   "source": [
    "n=153\n",
    "p=n\n",
    "s=0\n",
    "while(p>0):\n",
    "    d=p%10\n",
    "    arm=d*d*d\n",
    "    s+=arm\n",
    "    p=p//10\n",
    "if(s==n):\n",
    "    print(\"ARMSTRIONG NUMNBER\")\n",
    "else:\n",
    "    print(\"Not A armstronmg num,ber\")"
   ]
  },
  {
   "cell_type": "code",
   "execution_count": 2,
   "id": "d634a4f1",
   "metadata": {},
   "outputs": [
    {
     "name": "stdout",
     "output_type": "stream",
     "text": [
      "39\n",
      "8\n",
      "31\n",
      "31\n"
     ]
    }
   ],
   "source": [
    "sent=\"hellpo i fm,sdfihsd fasdif masdfkasdfsd\"\n",
    "cnt=0\n",
    "con=0\n",
    "vow=\"aeiou\"\n",
    "print(len(sent))\n",
    "for i in sent:\n",
    "    if i in vow:\n",
    "        cnt+=1\n",
    "    else:\n",
    "        con+=1\n",
    "print(cnt)\n",
    "print(con)\n",
    "print(len(sent)-cnt)"
   ]
  },
  {
   "cell_type": "code",
   "execution_count": 3,
   "id": "bae46096",
   "metadata": {},
   "outputs": [
    {
     "name": "stdout",
     "output_type": "stream",
     "text": [
      "6 * 1 = 6\n",
      "6 * 2 = 12\n",
      "6 * 3 = 18\n",
      "6 * 4 = 24\n",
      "6 * 5 = 30\n",
      "6 * 6 = 36\n",
      "6 * 7 = 42\n",
      "6 * 8 = 48\n",
      "6 * 9 = 54\n"
     ]
    }
   ],
   "source": [
    "n=6\n",
    "for i in range(1,10):\n",
    "    print(n,\"*\",i,\"=\",n*i)"
   ]
  },
  {
   "cell_type": "code",
   "execution_count": 4,
   "id": "d4a2dc46",
   "metadata": {},
   "outputs": [
    {
     "name": "stdout",
     "output_type": "stream",
     "text": [
      "leap year\n"
     ]
    }
   ],
   "source": [
    "year=2024\n",
    "if(year%4==0):\n",
    "    print(\"leap year\")\n",
    "else:\n",
    "    print(\"not a leap year\")"
   ]
  },
  {
   "cell_type": "code",
   "execution_count": null,
   "id": "0f380ecf",
   "metadata": {},
   "outputs": [],
   "source": [
    "a=5\n",
    "b=6\n",
    "c=9\n",
    "d=3\n",
    "e=19\n",
    "print(max(a,b,c,d,e))"
   ]
  },
  {
   "cell_type": "code",
   "execution_count": null,
   "id": "b8d79b2d",
   "metadata": {},
   "outputs": [
    {
     "name": "stdout",
     "output_type": "stream",
     "text": [
      "Palindrome ID\n"
     ]
    }
   ],
   "source": [
    "patient_id = \"12321\"\n",
    "\n",
    "if patient_id == patient_id[::-1]:\n",
    "    print(\"Palindrome\")\n",
    "else:\n",
    "    print(\"Not a Palindrome\")"
   ]
  },
  {
   "cell_type": "code",
   "execution_count": 6,
   "id": "697cfe63",
   "metadata": {},
   "outputs": [
    {
     "name": "stdout",
     "output_type": "stream",
     "text": [
      "Factorial: 120\n"
     ]
    }
   ],
   "source": [
    "n = 5 \n",
    "fact = 1\n",
    "for i in range(1, n+1):\n",
    "    fact *= i\n",
    "print(\"Factorial:\", fact)"
   ]
  },
  {
   "cell_type": "code",
   "execution_count": 7,
   "id": "39d91554",
   "metadata": {},
   "outputs": [
    {
     "name": "stdout",
     "output_type": "stream",
     "text": [
      "15\n",
      "30\n",
      "45\n",
      "60\n",
      "75\n",
      "90\n"
     ]
    }
   ],
   "source": [
    "for i in range(1, 101):\n",
    "    if i % 3 == 0 and i % 5 == 0:\n",
    "        print(i)\n"
   ]
  },
  {
   "cell_type": "code",
   "execution_count": 9,
   "id": "7aa551a0",
   "metadata": {},
   "outputs": [
    {
     "name": "stdout",
     "output_type": "stream",
     "text": [
      "Not Prime\n"
     ]
    }
   ],
   "source": [
    "n=int(input())\n",
    "for i in range(2,int(n**0.5)+1):\n",
    "    if n%i==0:\n",
    "        print(\"Not Prime\")\n",
    "        break\n",
    "else:\n",
    "    print(\"Prime\")"
   ]
  },
  {
   "cell_type": "code",
   "execution_count": 11,
   "id": "b9d564e9",
   "metadata": {},
   "outputs": [
    {
     "name": "stdout",
     "output_type": "stream",
     "text": [
      "735\n"
     ]
    }
   ],
   "source": [
    "nums=list(map(int,input().split()))\n",
    "print(sorted(set(nums))[-2])"
   ]
  },
  {
   "cell_type": "code",
   "execution_count": 14,
   "id": "1a758dae",
   "metadata": {},
   "outputs": [
    {
     "name": "stdout",
     "output_type": "stream",
     "text": [
      "650\n"
     ]
    }
   ],
   "source": [
    "s=0\n",
    "for i in range(2,51,2):\n",
    "    s+=i\n",
    "print(s)"
   ]
  },
  {
   "cell_type": "code",
   "execution_count": 13,
   "id": "ead34756",
   "metadata": {},
   "outputs": [
    {
     "name": "stdout",
     "output_type": "stream",
     "text": [
      "Upper: 0 Lower: 0\n"
     ]
    }
   ],
   "source": [
    "s=input()\n",
    "uc=lc=0\n",
    "for c in s:\n",
    "    if c.isupper():\n",
    "        uc+=1\n",
    "    elif c.islower():\n",
    "        lc+=1\n",
    "print(\"Upper:\",uc,\"Lower:\",lc)"
   ]
  },
  {
   "cell_type": "code",
   "execution_count": 16,
   "id": "5d038f2f",
   "metadata": {},
   "outputs": [
    {
     "name": "stdout",
     "output_type": "stream",
     "text": [
      "0 1 1 2 3 5 8 13 21 34 55 89 144 233 377 610 987 1597 2584 4181 6765 10946 17711 "
     ]
    }
   ],
   "source": [
    "n=int(input())\n",
    "a,b=0,1\n",
    "for _ in range(n):\n",
    "    print(a,end=\" \")\n",
    "    a,b=b,a+b\n"
   ]
  },
  {
   "cell_type": "code",
   "execution_count": 17,
   "id": "36789cd4",
   "metadata": {},
   "outputs": [
    {
     "name": "stdout",
     "output_type": "stream",
     "text": [
      "Anagram\n"
     ]
    }
   ],
   "source": [
    "a=input()\n",
    "b=input()\n",
    "if sorted(a)==sorted(b):\n",
    "    print(\"Anagram\")\n",
    "else:\n",
    "    print(\"Not Anagram\")"
   ]
  },
  {
   "cell_type": "code",
   "execution_count": 22,
   "id": "40dd9bee",
   "metadata": {},
   "outputs": [
    {
     "name": "stdout",
     "output_type": "stream",
     "text": [
      "Not Perfect\n"
     ]
    }
   ],
   "source": [
    "n=int(input())\n",
    "s=sum(i for i in range(1,n) if n%i==0)\n",
    "if s==n:\n",
    "    print(\"Perfect\")\n",
    "else:\n",
    "    print(\"Not Perfect\")"
   ]
  },
  {
   "cell_type": "code",
   "execution_count": 23,
   "id": "4367a537",
   "metadata": {},
   "outputs": [
    {
     "name": "stdout",
     "output_type": "stream",
     "text": [
      "Fail\n"
     ]
    }
   ],
   "source": [
    "marks=[int(input()) for _ in range(5)]\n",
    "p=sum(marks)/5\n",
    "if p>=90:\n",
    "    print(\"A\")\n",
    "elif p>=75:\n",
    "    print(\"B\")\n",
    "elif p>=50:\n",
    "    print(\"C\")\n",
    "else:\n",
    "    print(\"Fail\")"
   ]
  },
  {
   "cell_type": "code",
   "execution_count": 24,
   "id": "0d927ce2",
   "metadata": {},
   "outputs": [
    {
     "name": "stdout",
     "output_type": "stream",
     "text": [
      "2 3 5 7 11 13 17 19 23 29 31 37 41 43 47 53 59 61 67 71 73 79 83 89 97 "
     ]
    }
   ],
   "source": [
    "for n in range(2,101):\n",
    "    for i in range(2,int(n**0.5)+1):\n",
    "        if n%i==0:\n",
    "            break\n",
    "    else:\n",
    "        print(n,end=\" \")"
   ]
  },
  {
   "cell_type": "code",
   "execution_count": 25,
   "id": "0d4dd489",
   "metadata": {},
   "outputs": [
    {
     "name": "stdout",
     "output_type": "stream",
     "text": [
      "1\n"
     ]
    }
   ],
   "source": [
    "s=input()+\" \"\n",
    "c=0\n",
    "for i in range(len(s)-1):\n",
    "    if s[i]!=\" \" and s[i+1]==\" \":\n",
    "        c+=1\n",
    "print(c)"
   ]
  },
  {
   "cell_type": "code",
   "execution_count": 26,
   "id": "b40b2a73",
   "metadata": {},
   "outputs": [
    {
     "name": "stdout",
     "output_type": "stream",
     "text": [
      "23\n"
     ]
    }
   ],
   "source": [
    "p=int(input())\n",
    "age=int(input())\n",
    "stu=input()\n",
    "if stu==\"yes\":\n",
    "    p*=0.8\n",
    "elif age>=60:\n",
    "    p*=0.9\n",
    "print(p)"
   ]
  },
  {
   "cell_type": "code",
   "execution_count": 27,
   "id": "86b25888",
   "metadata": {},
   "outputs": [
    {
     "name": "stdout",
     "output_type": "stream",
     "text": [
      "567\n"
     ]
    }
   ],
   "source": [
    "t=int(input())\n",
    "if t>500:\n",
    "    print(t)\n",
    "else:\n",
    "    print(t+50)"
   ]
  },
  {
   "cell_type": "code",
   "execution_count": 28,
   "id": "4b8cf3a9",
   "metadata": {},
   "outputs": [
    {
     "name": "stdout",
     "output_type": "stream",
     "text": [
      "Fail\n"
     ]
    }
   ],
   "source": [
    "m=int(input())\n",
    "if m>=90:\n",
    "    print(\"A\")\n",
    "elif m>=75:\n",
    "    print(\"B\")\n",
    "elif m>=50:\n",
    "    print(\"C\")\n",
    "else:\n",
    "    print(\"Fail\")"
   ]
  },
  {
   "cell_type": "code",
   "execution_count": 29,
   "id": "c9a6f2e7",
   "metadata": {},
   "outputs": [
    {
     "name": "stdout",
     "output_type": "stream",
     "text": [
      "1.1500000000000001\n"
     ]
    }
   ],
   "source": [
    "b=int(input())\n",
    "if b<500:\n",
    "    print(b*0.05)\n",
    "elif b<=1000:\n",
    "    print(b*0.1)\n",
    "else:\n",
    "    print(b*0.15)"
   ]
  },
  {
   "cell_type": "code",
   "execution_count": 30,
   "id": "6f2b2be0",
   "metadata": {},
   "outputs": [
    {
     "name": "stdout",
     "output_type": "stream",
     "text": [
      "100000\n"
     ]
    }
   ],
   "source": [
    "m=int(input())\n",
    "print(min(m*500,(m+5)//6*2700,(m+11)//12*5000))"
   ]
  },
  {
   "cell_type": "code",
   "execution_count": 31,
   "id": "8386bedb",
   "metadata": {},
   "outputs": [
    {
     "name": "stdout",
     "output_type": "stream",
     "text": [
      "Eligible\n"
     ]
    }
   ],
   "source": [
    "t=int(input())\n",
    "a=int(input())\n",
    "if a/t*100>=75:\n",
    "    print(\"Eligible\")\n",
    "else:\n",
    "    print(\"Not Eligible\")"
   ]
  },
  {
   "cell_type": "code",
   "execution_count": 32,
   "id": "ecb9c4d8",
   "metadata": {},
   "outputs": [
    {
     "name": "stdout",
     "output_type": "stream",
     "text": [
      "Success\n"
     ]
    }
   ],
   "source": [
    "w=int(input())\n",
    "if w%100==0:\n",
    "    print(\"Success\")\n",
    "else:\n",
    "    print(\"Failed\")"
   ]
  },
  {
   "cell_type": "code",
   "execution_count": 33,
   "id": "ebbafe47",
   "metadata": {},
   "outputs": [
    {
     "name": "stdout",
     "output_type": "stream",
     "text": [
      "Nice weather, go out!\n"
     ]
    }
   ],
   "source": [
    "t=int(input())\n",
    "if t>35:\n",
    "    print(\"Too hot, stay indoors!\")\n",
    "elif t>=20:\n",
    "    print(\"Nice weather, go out!\")\n",
    "else:\n",
    "    print(\"It’s cold, wear warm clothes!\")"
   ]
  },
  {
   "cell_type": "code",
   "execution_count": 34,
   "id": "6e6a53de",
   "metadata": {},
   "outputs": [
    {
     "name": "stdout",
     "output_type": "stream",
     "text": [
      "100\n"
     ]
    }
   ],
   "source": [
    "d=int(input())\n",
    "if d<=5:\n",
    "    print(10)\n",
    "elif d<=10:\n",
    "    print(50)\n",
    "else:\n",
    "    print(100)"
   ]
  },
  {
   "cell_type": "code",
   "execution_count": 35,
   "id": "c3eb033c",
   "metadata": {},
   "outputs": [
    {
     "name": "stdout",
     "output_type": "stream",
     "text": [
      "115\n"
     ]
    }
   ],
   "source": [
    "u=int(input())\n",
    "if u<=100:\n",
    "    bill=u*5\n",
    "elif u<=200:\n",
    "    bill=100*5+(u-100)*7\n",
    "else:\n",
    "    bill=100*5+100*7+(u-200)*10\n",
    "print(bill)"
   ]
  }
 ],
 "metadata": {
  "kernelspec": {
   "display_name": "Python 3",
   "language": "python",
   "name": "python3"
  },
  "language_info": {
   "codemirror_mode": {
    "name": "ipython",
    "version": 3
   },
   "file_extension": ".py",
   "mimetype": "text/x-python",
   "name": "python",
   "nbconvert_exporter": "python",
   "pygments_lexer": "ipython3",
   "version": "3.11.0"
  }
 },
 "nbformat": 4,
 "nbformat_minor": 5
}
