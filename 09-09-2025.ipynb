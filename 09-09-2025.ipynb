{
 "cells": [
  {
   "cell_type": "code",
   "execution_count": null,
   "id": "aa9af47b",
   "metadata": {},
   "outputs": [
    {
     "name": "stdout",
     "output_type": "stream",
     "text": [
      "Total words: 5\n"
     ]
    }
   ],
   "source": [
    "def count_words(filename):\n",
    "    with open(filename, \"r\") as f:\n",
    "        text = f.read()\n",
    "        words = text.split()\n",
    "        return len(words)\n",
    "    \n",
    "file_name = \"sample.txt\"  \n",
    "print(\"Total words:\", count_words(file_name))\n"
   ]
  },
  {
   "cell_type": "code",
   "execution_count": null,
   "id": "623e5a82",
   "metadata": {},
   "outputs": [
    {
     "name": "stdout",
     "output_type": "stream",
     "text": [
      "Strong Password\n"
     ]
    }
   ],
   "source": [
    "def is_strong(pwd):\n",
    "    if len(pwd) < 8:\n",
    "        return False\n",
    "    \n",
    "    has_upper= False\n",
    "    has_lower = False\n",
    "    has_digit = False\n",
    "    has_special = False\n",
    "    \n",
    "    for c in pwd:\n",
    "        if 'A' <= c <= 'Z':\n",
    "            has_upper = True\n",
    "        elif 'a' <= c <= 'z':\n",
    "            has_lower = True\n",
    "        elif '0' <= c <= '9':\n",
    "            has_digit = True\n",
    "        else:\n",
    "            has_special = True\n",
    "    \n",
    "    return has_upper and has_lower and has_digit and has_special\n",
    "\n",
    "password = input(\"Enter password: \")\n",
    "if is_strong(password):\n",
    "    print(\"Strong Password\")\n",
    "else:\n",
    "    print(\"Weak Password\")\n"
   ]
  },
  {
   "cell_type": "code",
   "execution_count": 6,
   "id": "a1c58ca5",
   "metadata": {},
   "outputs": [
    {
     "name": "stdout",
     "output_type": "stream",
     "text": [
      "5\n"
     ]
    }
   ],
   "source": [
    "def cal(a, b, ch):\n",
    "    if ch == '+':\n",
    "        print(a+b)\n",
    "    elif ch == '-':\n",
    "        print(a-b)\n",
    "    elif ch == '*':\n",
    "        print(a*b)\n",
    "    elif ch == '/':\n",
    "        print(a/b)\n",
    "    else:\n",
    "        print(\"Invalid choice\")\n",
    "\n",
    "ch = input(\"Enter operation (+,-,*,/): \")\n",
    "a = int(input(\"Enter first number: \"))\n",
    "b = int(input(\"Enter second number: \"))\n",
    "cal(a, b, ch)\n"
   ]
  },
  {
   "cell_type": "code",
   "execution_count": 16,
   "id": "7eaa6739",
   "metadata": {},
   "outputs": [
    {
     "name": "stdout",
     "output_type": "stream",
     "text": [
      "['hello']\n",
      "Counter({'hello': 2, 'sami': 1})\n"
     ]
    }
   ],
   "source": [
    "from collections import Counter\n",
    "lis=[\"sami\",'hello','hello']\n",
    "dup=[]\n",
    "\n",
    "for i in lis:\n",
    "    if lis.count(i)>1 and i not in dup:\n",
    "        dup.append(i)\n",
    "print(dup)\n",
    "b=Counter(lis)\n",
    "print(b)\n"
   ]
  },
  {
   "cell_type": "code",
   "execution_count": null,
   "id": "ccada9ce",
   "metadata": {},
   "outputs": [
    {
     "name": "stdout",
     "output_type": "stream",
     "text": [
      "77.0°F\n"
     ]
    }
   ],
   "source": [
    "n = int(input(\"Enter Celsius to convert to Fahrenheit: \"))\n",
    "f = (n * 1.8) + 32\n",
    "print(f\"{f}°F\")\n"
   ]
  },
  {
   "cell_type": "code",
   "execution_count": 22,
   "id": "fd9545c8",
   "metadata": {},
   "outputs": [
    {
     "name": "stdout",
     "output_type": "stream",
     "text": [
      "2542\n"
     ]
    }
   ],
   "source": [
    "lis=[1,2,3,4,3,342,34,234,234,234,2342,34,23,5,45,454,25,2542]\n",
    "print(max(lis))"
   ]
  },
  {
   "cell_type": "code",
   "execution_count": 100,
   "id": "c3c2dc64",
   "metadata": {},
   "outputs": [
    {
     "name": "stdout",
     "output_type": "stream",
     "text": [
      "100.0\n"
     ]
    }
   ],
   "source": [
    "p,t,r=map(int,input(\"Enter the values\").split())\n",
    "res=(p*t*r)/100\n",
    "print(res)"
   ]
  },
  {
   "cell_type": "code",
   "execution_count": 37,
   "id": "f4b366ea",
   "metadata": {},
   "outputs": [
    {
     "name": "stdout",
     "output_type": "stream",
     "text": [
      "chai 20\n",
      "taeu 30\n"
     ]
    }
   ],
   "source": [
    "stu = {'sami': 90, 'chai': 20, 'ramu': 245,'taeu':30}\n",
    "\n",
    "for i,j in stu.items():\n",
    "    if j < 75:\n",
    "        print(i,j)\n"
   ]
  },
  {
   "cell_type": "code",
   "execution_count": 44,
   "id": "c1cc90f8",
   "metadata": {},
   "outputs": [
    {
     "name": "stdout",
     "output_type": "stream",
     "text": [
      "Sum of digits = 10\n"
     ]
    }
   ],
   "source": [
    "n = int(input(\"Enter a number: \"))\n",
    "s = 0\n",
    "while n > 0:\n",
    "    s += n % 10   \n",
    "    n //= 10    \n",
    "print(\"Sum of digits =\", s)"
   ]
  },
  {
   "cell_type": "code",
   "execution_count": 45,
   "id": "daa2d093",
   "metadata": {},
   "outputs": [
    {
     "name": "stdout",
     "output_type": "stream",
     "text": [
      "Prime: True\n"
     ]
    }
   ],
   "source": [
    "def is_prime(n):\n",
    "    if n <= 1:\n",
    "        return False\n",
    "    for i in range(2, int(n**0.5) + 1):\n",
    "        if n % i == 0:\n",
    "            return False\n",
    "    return True\n",
    "\n",
    "num = int(input(\"Enter a number: \"))\n",
    "print(\"Prime:\", is_prime(num))\n"
   ]
  },
  {
   "cell_type": "code",
   "execution_count": 63,
   "id": "c6bcf10b",
   "metadata": {},
   "outputs": [
    {
     "name": "stdout",
     "output_type": "stream",
     "text": [
      "Smallest number: 3\n",
      "Largest number: 234234234234234\n"
     ]
    }
   ],
   "source": [
    "num= input(\"Enter numbers separated by space: \")\n",
    "numbers = [int(x) for x in num.split()]\n",
    "\n",
    "smallest = min(numbers)\n",
    "largest = max(numbers)\n",
    "\n",
    "print(\"Smallest number:\", smallest)\n",
    "print(\"Largest number:\", largest)\n"
   ]
  },
  {
   "cell_type": "code",
   "execution_count": 73,
   "id": "f6617012",
   "metadata": {},
   "outputs": [
    {
     "name": "stdout",
     "output_type": "stream",
     "text": [
      "Total bill: 150\n"
     ]
    }
   ],
   "source": [
    "\n",
    "items = eval(input(\"Enter items with prices as dictionary: \"))\n",
    "total = sum(items.values())\n",
    "print(\"Total bill:\", total)\n"
   ]
  },
  {
   "cell_type": "code",
   "execution_count": 74,
   "id": "90da0e13",
   "metadata": {},
   "outputs": [
    {
     "name": "stdout",
     "output_type": "stream",
     "text": [
      "667\n"
     ]
    }
   ],
   "source": [
    "a,b,c=map(int,input(\"Enter the numbers: \").split())\n",
    "b=max(a,b,c)\n",
    "print(b)"
   ]
  },
  {
   "cell_type": "code",
   "execution_count": 78,
   "id": "f6af5951",
   "metadata": {},
   "outputs": [
    {
     "name": "stdout",
     "output_type": "stream",
     "text": [
      "Character frequencies: {'d': 3, 'h': 2, 's': 2, 'l': 1, 'a': 1}\n"
     ]
    }
   ],
   "source": [
    "from collections import Counter\n",
    "\n",
    "s = input(\"Enter the string: \")\n",
    "freq = dict(Counter(s))\n",
    "\n",
    "print(\"Character frequencies:\", freq)\n"
   ]
  },
  {
   "cell_type": "code",
   "execution_count": 79,
   "id": "af942933",
   "metadata": {},
   "outputs": [
    {
     "name": "stdout",
     "output_type": "stream",
     "text": [
      "Electricity Bill: ₹ 2520\n"
     ]
    }
   ],
   "source": [
    "uni= int(input(\"Enter the number of units consumed: \"))\n",
    "\n",
    "bill = 0\n",
    "\n",
    "if uni <= 100:\n",
    "    bill = uni * 5\n",
    "elif uni <= 200:\n",
    "    bill = (100 * 5) + (uni - 100) * 7\n",
    "else:\n",
    "    bill = (100 * 5) + (100 * 7) + (uni - 200) * 10\n",
    "\n",
    "print(\"Electricity Bill: ₹\", bill)\n"
   ]
  },
  {
   "cell_type": "code",
   "execution_count": 84,
   "id": "23866c28",
   "metadata": {},
   "outputs": [
    {
     "name": "stdout",
     "output_type": "stream",
     "text": [
      "['sami', 'shiva', 'raghu', 'chaitu']\n",
      "['chaitu', 'raghu', 'sami', 'shiva']\n"
     ]
    }
   ],
   "source": [
    "num= input(\"Enter numbers separated by space: \")\n",
    "numbers = [str(x) for x in num.split()]\n",
    "print(numbers)\n",
    "b=sorted(numbers)\n",
    "print(b)\n"
   ]
  },
  {
   "cell_type": "code",
   "execution_count": 86,
   "id": "4fcb26ec",
   "metadata": {},
   "outputs": [
    {
     "name": "stdout",
     "output_type": "stream",
     "text": [
      "4321\n"
     ]
    }
   ],
   "source": [
    "s=input()\n",
    "print(s[: :-1])"
   ]
  },
  {
   "cell_type": "code",
   "execution_count": 89,
   "id": "95a676d4",
   "metadata": {},
   "outputs": [
    {
     "name": "stdout",
     "output_type": "stream",
     "text": [
      "Positive: 4\n",
      "Negative: 1\n",
      "Zero: 1\n"
     ]
    }
   ],
   "source": [
    "num= input(\"Enter numbers separated by space: \")\n",
    "n = [int(x) for x in num.split()]\n",
    "\n",
    "p = 0\n",
    "ne = 0\n",
    "z = 0\n",
    "\n",
    "for x in n:\n",
    "    if x > 0:\n",
    "        p += 1\n",
    "    elif x < 0:\n",
    "        ne += 1\n",
    "    else:\n",
    "        z += 1\n",
    "\n",
    "print(\"Positive:\", p)\n",
    "print(\"Negative:\", ne)\n",
    "print(\"Zero:\", z)\n"
   ]
  },
  {
   "cell_type": "code",
   "execution_count": 91,
   "id": "22320f09",
   "metadata": {},
   "outputs": [
    {
     "name": "stdout",
     "output_type": "stream",
     "text": [
      "Wrong PIN. 2 attempts left.\n",
      "Wrong PIN. 1 attempts left.\n",
      "Wrong PIN. 0 attempts left.\n",
      "Account locked!\n"
     ]
    }
   ],
   "source": [
    "pin_correct = 1234\n",
    "\n",
    "for i in range(3):\n",
    "    p = int(input(\"Enter PIN: \"))\n",
    "    if p == pin_correct:\n",
    "        print(\"Access Granted!\")\n",
    "        break\n",
    "    else:\n",
    "        print(f\"Wrong PIN. {2-i} attempts left.\")\n",
    "else:\n",
    "    print(\"Account locked!\")\n"
   ]
  },
  {
   "cell_type": "code",
   "execution_count": 92,
   "id": "b295faa7",
   "metadata": {},
   "outputs": [
    {
     "name": "stdout",
     "output_type": "stream",
     "text": [
      "Error: Cannot divide by zero!\n"
     ]
    }
   ],
   "source": [
    "a = float(input(\"Enter first number: \"))\n",
    "b = float(input(\"Enter second number: \"))\n",
    "\n",
    "try:\n",
    "    result = a / b\n",
    "    print(\"Result:\", result)\n",
    "except ZeroDivisionError:\n",
    "    print(\"Error: Cannot divide by zero!\")\n"
   ]
  },
  {
   "cell_type": "code",
   "execution_count": 93,
   "id": "3a1f5d16",
   "metadata": {},
   "outputs": [
    {
     "name": "stdout",
     "output_type": "stream",
     "text": [
      "Error: Invalid input! Please enter numbers.\n"
     ]
    }
   ],
   "source": [
    "try:\n",
    "    a = float(input(\"Enter first number: \"))\n",
    "    b = float(input(\"Enter second number: \"))\n",
    "    print(\"Result:\", a / b)\n",
    "except ZeroDivisionError:\n",
    "    print(\"Error: Cannot divide by zero!\")\n",
    "except ValueError:\n",
    "    print(\"Error: Invalid input! Please enter numbers.\")"
   ]
  },
  {
   "cell_type": "code",
   "execution_count": 94,
   "id": "d47dd272",
   "metadata": {},
   "outputs": [
    {
     "name": "stdout",
     "output_type": "stream",
     "text": [
      "Withdrawal successful. Remaining balance: 4800.0\n"
     ]
    }
   ],
   "source": [
    "balance = 5000\n",
    "w = float(input(\"Enter withdrawal amount: \"))\n",
    "\n",
    "try:\n",
    "    if w > balance:\n",
    "        raise Exception(\"Insufficient balance!\")\n",
    "    balance -= w\n",
    "    print(\"Withdrawal successful. Remaining balance:\", balance)\n",
    "except Exception as e:\n",
    "    print(\"Error:\", e)\n"
   ]
  },
  {
   "cell_type": "code",
   "execution_count": 97,
   "id": "d34c753d",
   "metadata": {},
   "outputs": [
    {
     "name": "stdout",
     "output_type": "stream",
     "text": [
      "Bill: 232323231520\n",
      "Bill processing finished\n"
     ]
    }
   ],
   "source": [
    "try:\n",
    "    u = int(input(\"Enter units: \"))\n",
    "    if u <= 100:\n",
    "        b = u * 5\n",
    "    elif u <= 200:\n",
    "        b = 100*5 + (u-100)*7\n",
    "    else:\n",
    "        b = 100*5 + 100*7 + (u-200)*10\n",
    "    print(\"Bill:\", b)\n",
    "except:\n",
    "    print(\"Invalid input!\")\n",
    "finally:\n",
    "    print(\"Bill processing finished\")\n"
   ]
  }
 ],
 "metadata": {
  "kernelspec": {
   "display_name": "Python 3",
   "language": "python",
   "name": "python3"
  },
  "language_info": {
   "codemirror_mode": {
    "name": "ipython",
    "version": 3
   },
   "file_extension": ".py",
   "mimetype": "text/x-python",
   "name": "python",
   "nbconvert_exporter": "python",
   "pygments_lexer": "ipython3",
   "version": "3.11.0"
  }
 },
 "nbformat": 4,
 "nbformat_minor": 5
}
