{
 "cells": [
  {
   "cell_type": "code",
   "execution_count": null,
   "id": "98459195",
   "metadata": {},
   "outputs": [
    {
     "name": "stdout",
     "output_type": "stream",
     "text": [
      "[2, 3, 5, 7, 11, 13, 17, 19]\n"
     ]
    }
   ],
   "source": [
    "n=int(input())\n",
    "def prime(n):\n",
    "    primes = []\n",
    "    for num in range(2, n+1):\n",
    "        c = 0\n",
    "        for i in range(1, num+1):\n",
    "            if num % i == 0:\n",
    "                c += 1\n",
    "        if c == 2:\n",
    "            primes.append(num)\n",
    "    return primes\n",
    "print(prime(n))\n"
   ]
  },
  {
   "cell_type": "code",
   "execution_count": 15,
   "id": "ffc1118c",
   "metadata": {},
   "outputs": [
    {
     "name": "stdout",
     "output_type": "stream",
     "text": [
      "False\n"
     ]
    }
   ],
   "source": [
    "s=input()\n",
    "def is_palindrome(s):\n",
    "    s = ''.join(s.split()).lower()\n",
    "    return s == s[::-1]\n",
    "print(is_palindrome(s))\n"
   ]
  },
  {
   "cell_type": "code",
   "execution_count": 13,
   "id": "fdc161b3",
   "metadata": {},
   "outputs": [
    {
     "name": "stdout",
     "output_type": "stream",
     "text": [
      "True\n"
     ]
    }
   ],
   "source": [
    "a=input()\n",
    "b=input()\n",
    "if sorted(a)==sorted(b):\n",
    "    print(True)"
   ]
  },
  {
   "cell_type": "code",
   "execution_count": 22,
   "id": "1ddb3c2f",
   "metadata": {},
   "outputs": [
    {
     "name": "stdout",
     "output_type": "stream",
     "text": [
      "2\n",
      "3\n"
     ]
    }
   ],
   "source": [
    "s=input()\n",
    "vow='aeiou'\n",
    "c=0\n",
    "for i in s:\n",
    "    if i in vow:\n",
    "        c+=1\n",
    "print(c)\n",
    "print(len(s)-c)\n",
    "\n",
    "    "
   ]
  },
  {
   "cell_type": "code",
   "execution_count": 25,
   "id": "6b3af649",
   "metadata": {},
   "outputs": [
    {
     "name": "stdout",
     "output_type": "stream",
     "text": [
      "amazing\n"
     ]
    }
   ],
   "source": [
    "s=input()\n",
    "def lw(s):\n",
    "    w = s.split()\n",
    "    l = \"\"\n",
    "    for x in w:\n",
    "        if len(x) > len(l):\n",
    "            l = x\n",
    "    return l\n",
    "print(lw(s))\n"
   ]
  },
  {
   "cell_type": "code",
   "execution_count": 30,
   "id": "19689cd7",
   "metadata": {},
   "outputs": [
    {
     "name": "stdout",
     "output_type": "stream",
     "text": [
      "$nE$5y\n"
     ]
    }
   ],
   "source": [
    "import random, string\n",
    "l=int(input())\n",
    "def pwd(l):\n",
    "    ch = string.ascii_letters + string.digits + string.punctuation\n",
    "    return ''.join(random.choice(ch) for _ in range(l))\n",
    "print(pwd(l))\n"
   ]
  },
  {
   "cell_type": "code",
   "execution_count": 35,
   "id": "bc8de932",
   "metadata": {},
   "outputs": [
    {
     "name": "stdout",
     "output_type": "stream",
     "text": [
      "5.0\n",
      "15511210043330985984000000\n",
      "0.42261826174069944\n",
      "0.9063077870366499\n"
     ]
    }
   ],
   "source": [
    "import math\n",
    "n=int(input())\n",
    "print(math.sqrt(n))\n",
    "print(math.factorial(n))\n",
    "print(math.sin(math.radians(n)))\n",
    "print(math.cos(math.radians(n)))\n"
   ]
  },
  {
   "cell_type": "code",
   "execution_count": 70,
   "id": "88e316fb",
   "metadata": {},
   "outputs": [
    {
     "name": "stdout",
     "output_type": "stream",
     "text": [
      "Counter({'lol': 3, 'hi': 2, 'byr': 1})\n"
     ]
    }
   ],
   "source": [
    "from collections import Counter\n",
    "s=input().split()\n",
    "c=Counter(s)\n",
    "print(c)\n"
   ]
  },
  {
   "cell_type": "code",
   "execution_count": 69,
   "id": "b35904de",
   "metadata": {},
   "outputs": [
    {
     "name": "stdout",
     "output_type": "stream",
     "text": [
      "Weather: Snowy, Temp: -3°C\n"
     ]
    }
   ],
   "source": [
    "import random\n",
    "def weather():\n",
    "    w = random.choice([\"Sunny\",\"Rainy\",\"Cloudy\",\"Stormy\",\"Snowy\"])\n",
    "    t = random.randint(-5,45)\n",
    "    return f\"Weather: {w}, Temp: {t}°C\"\n",
    "print(weather())\n"
   ]
  },
  {
   "cell_type": "code",
   "execution_count": 37,
   "id": "b05ff0f0",
   "metadata": {},
   "outputs": [
    {
     "name": "stdout",
     "output_type": "stream",
     "text": [
      "10\n",
      "9\n",
      "8\n",
      "7\n",
      "6\n",
      "5\n",
      "4\n",
      "3\n",
      "2\n",
      "1\n",
      "Time’s up!\n"
     ]
    }
   ],
   "source": [
    "import time\n",
    "seconds=int(input())\n",
    "def countdown(seconds):\n",
    "    while seconds > 0:\n",
    "        print(seconds)\n",
    "        time.sleep(1) \n",
    "        seconds -= 1\n",
    "    print(\"Time’s up!\")\n",
    "countdown(seconds)"
   ]
  },
  {
   "cell_type": "code",
   "execution_count": 2,
   "id": "a8aaed74",
   "metadata": {},
   "outputs": [
    {
     "name": "stdout",
     "output_type": "stream",
     "text": [
      "Balance: 120\n"
     ]
    }
   ],
   "source": [
    "class BankAccount:\n",
    "    def deposit(self, amount):\n",
    "        if amount > 0:\n",
    "            self.balance += amount\n",
    "        else:\n",
    "            print(\"Deposit amount must be positive.\")\n",
    "\n",
    "    def withdraw(self, amount):\n",
    "        if 0 < amount <= self.balance:\n",
    "            self.balance -= amount\n",
    "        else:\n",
    "            print(\"Insufficient funds or invalid amount.\")\n",
    "\n",
    "    def get_balance(self):\n",
    "        return f\"Balance: {self.balance}\"\n",
    "acc = BankAccount()     \n",
    "acc.balance = 100         \n",
    "acc.owner = \"Alice\"      \n",
    "acc.deposit(50)\n",
    "acc.withdraw(30)\n",
    "print(acc.get_balance())\n"
   ]
  },
  {
   "cell_type": "code",
   "execution_count": 3,
   "id": "037013ab",
   "metadata": {},
   "outputs": [
    {
     "name": "stdout",
     "output_type": "stream",
     "text": [
      "85.0\n",
      "95\n"
     ]
    }
   ],
   "source": [
    "class Student:\n",
    "    def get_average(self):\n",
    "        if len(self.marks) == 0:\n",
    "            return 0\n",
    "        return sum(self.marks) / len(self.marks)\n",
    "    \n",
    "    def add_mark(self, mark):\n",
    "        self.marks.append(mark)\n",
    "\n",
    "    def get_highest(self):\n",
    "        if len(self.marks) == 0:\n",
    "            return None\n",
    "        return max(self.marks)\n",
    "    \n",
    "    def get_lowest(self):\n",
    "        if len(self.marks) == 0:\n",
    "            return None\n",
    "        return min(self.marks)\n",
    "    \n",
    "s = Student()              \n",
    "s.name = \"Tom\"              \n",
    "s.marks = [90, 80, 85]       \n",
    "print(s.get_average())      \n",
    "s.add_mark(95)          \n",
    "print(s.get_highest())     \n"
   ]
  },
  {
   "cell_type": "code",
   "execution_count": 8,
   "id": "a2813296",
   "metadata": {},
   "outputs": [
    {
     "name": "stdout",
     "output_type": "stream",
     "text": [
      "10000.0\n"
     ]
    }
   ],
   "source": [
    "class Employee:\n",
    "    def bonus(self):\n",
    "        if self.role == \"Manager\":\n",
    "            return 0.20 * self.salary\n",
    "        elif self.role == \"Developer\":\n",
    "            return 0.10 * self.salary\n",
    "        elif self.role == \"Intern\":\n",
    "            return 0.05 * self.salary\n",
    "        else:\n",
    "            return 0\n",
    "m = Employee()\n",
    "m.name = \"Alice\"\n",
    "m.salary = 50000\n",
    "m.role = \"Manager\"\n",
    "print(m.bonus()) \n"
   ]
  },
  {
   "cell_type": "code",
   "execution_count": 10,
   "id": "cf677bcc",
   "metadata": {},
   "outputs": [
    {
     "name": "stdout",
     "output_type": "stream",
     "text": [
      "153.94\n",
      "20\n"
     ]
    }
   ],
   "source": [
    "import math\n",
    "\n",
    "class Shape:\n",
    "    def area(self):\n",
    "        return 0\n",
    "\n",
    "class Circle(Shape):\n",
    "    def area(self):\n",
    "        return round(math.pi * self.radius ** 2,2)\n",
    "\n",
    "class Rectangle(Shape):\n",
    "    def area(self):\n",
    "        return self.width * self.height\n",
    "\n",
    "c = Circle()\n",
    "c.radius = 7      \n",
    "print(c.area())   \n",
    "\n",
    "r = Rectangle()\n",
    "r.width = 4        \n",
    "r.height = 5\n",
    "print(r.area()) \n"
   ]
  },
  {
   "cell_type": "code",
   "execution_count": 12,
   "id": "313584cb",
   "metadata": {},
   "outputs": [
    {
     "name": "stdout",
     "output_type": "stream",
     "text": [
      "Total = 2000\n"
     ]
    }
   ],
   "source": [
    "class Order:\n",
    "    items = {} \n",
    "\n",
    "    def add(self, item, price):\n",
    "        Order.items[item] = price\n",
    "\n",
    "    def remove(self, item):\n",
    "        if item in Order.items:\n",
    "            del Order.items[item]\n",
    "\n",
    "    def calculate_total(self):\n",
    "        return f\"Total = {sum(Order.items.values())}\"\n",
    "\n",
    "order = Order()\n",
    "order.add(\"Shirt\", 500)\n",
    "order.add(\"Shoes\", 1500)\n",
    "print(order.calculate_total())   "
   ]
  },
  {
   "cell_type": "code",
   "execution_count": 14,
   "id": "83e2273c",
   "metadata": {},
   "outputs": [
    {
     "name": "stdout",
     "output_type": "stream",
     "text": [
      "0 1 1 2 3 5 8 "
     ]
    }
   ],
   "source": [
    "n=int(input())\n",
    "def fibonacci(n):\n",
    "    if n == 0:\n",
    "        return 0\n",
    "    elif n == 1:\n",
    "        return 1\n",
    "    else:\n",
    "        return fibonacci(n-1) + fibonacci(n-2)\n",
    "\n",
    "for i in range(n):\n",
    "    print(fibonacci(i), end=\" \")\n"
   ]
  },
  {
   "cell_type": "code",
   "execution_count": 16,
   "id": "770ced41",
   "metadata": {},
   "outputs": [
    {
     "name": "stdout",
     "output_type": "stream",
     "text": [
      "120\n"
     ]
    }
   ],
   "source": [
    "n=int(input())\n",
    "def factorial(n):\n",
    "    if n == 0 or n == 1:  \n",
    "        return 1\n",
    "    else:                  \n",
    "        return n * factorial(n-1)  \n",
    "print(factorial(n))\n"
   ]
  },
  {
   "cell_type": "code",
   "execution_count": 20,
   "id": "c07b2a51",
   "metadata": {},
   "outputs": [
    {
     "name": "stdout",
     "output_type": "stream",
     "text": [
      "{'apple': 2, 'banana': 2, 'orange': 1}\n"
     ]
    }
   ],
   "source": [
    "def count_unique_words(sentence):\n",
    "    words = sentence.split()\n",
    "    wordc= {}\n",
    "    for word in words:\n",
    "        if word in wordc:\n",
    "            wordc[word] += 1\n",
    "        else:\n",
    "            wordc[word] = 1\n",
    "    return wordc\n",
    "\n",
    "sentence = input(\"Enter a sentence: \")\n",
    "print(count_unique_words(sentence))\n"
   ]
  },
  {
   "cell_type": "code",
   "execution_count": 24,
   "id": "01eff848",
   "metadata": {},
   "outputs": [
    {
     "name": "stdout",
     "output_type": "stream",
     "text": [
      "A\n"
     ]
    }
   ],
   "source": [
    "def calculate_grade(marks):\n",
    "    avg = sum(marks) / len(marks)\n",
    "    if avg >= 90:\n",
    "        return \"A\"\n",
    "    elif avg >= 80:\n",
    "        return \"B\"\n",
    "    elif avg >= 70:\n",
    "        return \"C\"\n",
    "    elif avg >= 60:\n",
    "        return \"D\"\n",
    "    else:\n",
    "        return \"F\"\n",
    "\n",
    "marks = list(map(int, input(\"Enter marks: \").split()))\n",
    "print(calculate_grade(marks))\n"
   ]
  },
  {
   "cell_type": "code",
   "execution_count": 25,
   "id": "4aa37fe7",
   "metadata": {},
   "outputs": [
    {
     "name": "stdout",
     "output_type": "stream",
     "text": [
      "10\n"
     ]
    }
   ],
   "source": [
    "l = [10, 5, 20, 8]\n",
    "l.remove(max(l)) \n",
    "print(max(l))    "
   ]
  },
  {
   "cell_type": "code",
   "execution_count": 28,
   "id": "3105c254",
   "metadata": {},
   "outputs": [
    {
     "name": "stdout",
     "output_type": "stream",
     "text": [
      "Text files: 1\n",
      "Python files: 0\n"
     ]
    }
   ],
   "source": [
    "import os\n",
    "\n",
    "tc= 0\n",
    "pc= 0\n",
    "\n",
    "for f in os.listdir():  \n",
    "    if f.endswith(\".txt\"):\n",
    "        tc += 1\n",
    "    elif f.endswith(\".py\"):\n",
    "        pc+= 1\n",
    "\n",
    "print(\"Text files:\", tc)\n",
    "print(\"Python files:\", pc)\n"
   ]
  },
  {
   "cell_type": "code",
   "execution_count": 30,
   "id": "aa47d029",
   "metadata": {},
   "outputs": [
    {
     "name": "stdout",
     "output_type": "stream",
     "text": [
      "Mean = 87.86\n",
      "Median = 90\n",
      "Variance = 73.81\n"
     ]
    }
   ],
   "source": [
    "import statistics as st\n",
    "\n",
    "s = list(map(int, input(\"Enter scores: \").split()))\n",
    "\n",
    "print(\"Mean =\", round(st.mean(s), 2))\n",
    "print(\"Median =\", st.median(s))\n",
    "print(\"Variance =\", round(st.variance(s), 2))\n"
   ]
  },
  {
   "cell_type": "code",
   "execution_count": 32,
   "id": "e49789de",
   "metadata": {},
   "outputs": [
    {
     "name": "stdout",
     "output_type": "stream",
     "text": [
      "Roots are: 2.0 and 1.0\n"
     ]
    }
   ],
   "source": [
    "import math\n",
    "\n",
    "a = float(input(\"Enter a: \"))\n",
    "b = float(input(\"Enter b: \"))\n",
    "c = float(input(\"Enter c: \"))\n",
    "\n",
    "d = b**2 - 4*a*c\n",
    "if d < 0:\n",
    "    print(\"No real roots\")\n",
    "else:\n",
    "    r1 = (-b + math.sqrt(d)) / (2*a)\n",
    "    r2 = (-b - math.sqrt(d)) / (2*a)\n",
    "    print(\"Roots are:\", r1, \"and\", r2)\n"
   ]
  },
  {
   "cell_type": "code",
   "execution_count": 36,
   "id": "3b3cb12e",
   "metadata": {},
   "outputs": [
    {
     "name": "stdout",
     "output_type": "stream",
     "text": [
      "You chose Paper , Computer chose Scissors\n",
      "Computer Wins!\n"
     ]
    }
   ],
   "source": [
    "import random\n",
    "\n",
    "u = input(\"Enter Rock, Paper, or Scissors: \")\n",
    "c = random.choice([\"Rock\", \"Paper\", \"Scissors\"])\n",
    "print(\"You chose\", u, \", Computer chose\", c)\n",
    "\n",
    "if u == c:\n",
    "    print(\"It's a Tie hahahahaha\")\n",
    "elif (u==\"Rock\" and c==\"Scissors\") or (u==\"Paper\" and c==\"Rock\") or (u==\"Scissors\" and c==\"Paper\"):\n",
    "    print(\"You Win!\")\n",
    "else:\n",
    "    print(\"Computer Wins!\")\n"
   ]
  },
  {
   "cell_type": "code",
   "execution_count": null,
   "id": "4aa97336",
   "metadata": {},
   "outputs": [
    {
     "name": "stdout",
     "output_type": "stream",
     "text": [
      "Sum = 6\n"
     ]
    }
   ],
   "source": [
    "a, b, c = map(int, input(\"Enter 3 numbers \").split())\n",
    "print(\"Sum =\", a + b + c)\n"
   ]
  },
  {
   "cell_type": "code",
   "execution_count": 39,
   "id": "ec004668",
   "metadata": {},
   "outputs": [
    {
     "name": "stdout",
     "output_type": "stream",
     "text": [
      "You borrowed Python 101\n",
      "You returned Python 101\n",
      "Available books: {'Python 101': 3, 'Data Science': 2}\n"
     ]
    }
   ],
   "source": [
    "class Library:\n",
    "    books = {\"Python 101\": 3, \"Data Science\": 2}\n",
    "\n",
    "    def borrow(self, t):\n",
    "        if t in self.books and self.books[t] > 0:\n",
    "            self.books[t] -= 1\n",
    "            return f\"You borrowed {t}\"\n",
    "        return f\"{t} not available\"\n",
    "\n",
    "    def return_book(self, t):\n",
    "        if t in self.books:\n",
    "            self.books[t] += 1\n",
    "        else:\n",
    "            self.books[t] = 1\n",
    "        return f\"You returned {t}\"\n",
    "\n",
    "    def show_books(self):\n",
    "        print(\"Available books:\", self.books)\n",
    "\n",
    "\n",
    "lib = Library()\n",
    "print(lib.borrow(\"Python 101\"))\n",
    "print(lib.return_book(\"Python 101\"))\n",
    "lib.show_books()\n"
   ]
  },
  {
   "cell_type": "code",
   "execution_count": 40,
   "id": "6ca27dde",
   "metadata": {},
   "outputs": [
    {
     "name": "stdout",
     "output_type": "stream",
     "text": [
      "Access Granted\n",
      "Deposited 200\n",
      "Withdrew 100\n",
      "Balance: 600\n"
     ]
    }
   ],
   "source": [
    "class ATM:\n",
    "    bal = 500\n",
    "    pin = 1234\n",
    "    auth = False\n",
    "\n",
    "    def login(self, p):\n",
    "        if p == self.pin:\n",
    "            self.auth = True\n",
    "            return \"Access Granted\"\n",
    "        return \"Wrong PIN\"\n",
    "\n",
    "    def check_balance(self):\n",
    "        if self.auth:\n",
    "            return f\"Balance: {self.bal}\"\n",
    "        return \"Access Denied\"\n",
    "\n",
    "    def deposit(self, amt):\n",
    "        if self.auth:\n",
    "            self.bal += amt\n",
    "            return f\"Deposited {amt}\"\n",
    "        return \"Access Denied\"\n",
    "\n",
    "    def withdraw(self, amt):\n",
    "        if self.auth:\n",
    "            if amt <= self.bal:\n",
    "                self.bal -= amt\n",
    "                return f\"Withdrew {amt}\"\n",
    "            return \"Insufficient Balance\"\n",
    "        return \"Access Denied\"\n",
    "\n",
    "\n",
    "atm = ATM()\n",
    "print(atm.login(1234))\n",
    "print(atm.deposit(200))\n",
    "print(atm.withdraw(100))\n",
    "print(atm.check_balance())\n"
   ]
  },
  {
   "cell_type": "code",
   "execution_count": 41,
   "id": "d8d5abe0",
   "metadata": {},
   "outputs": [
    {
     "name": "stdout",
     "output_type": "stream",
     "text": [
      "Dr. Smith is teaching Python\n",
      "Alice enrolled in Python\n",
      "Dr. Smith assigned: Project 1\n",
      "Alice submitted: Project 1\n"
     ]
    }
   ],
   "source": [
    "class Professor:\n",
    "    name = \"\"\n",
    "    subject = \"\"\n",
    "    \n",
    "    def teach(self, course):\n",
    "        return f\"{self.name} is teaching {course}\"\n",
    "    \n",
    "    def give_assignment(self, task):\n",
    "        return f\"{self.name} assigned: {task}\"\n",
    "\n",
    "class Student:\n",
    "    name = \"\"\n",
    "    courses = []\n",
    "    assignments = []\n",
    "    \n",
    "    def enroll(self, course):\n",
    "        self.courses.append(course)\n",
    "        return f\"{self.name} enrolled in {course}\"\n",
    "    \n",
    "    def submit_assignment(self, task):\n",
    "        self.assignments.append(task)\n",
    "        return f\"{self.name} submitted: {task}\"\n",
    "\n",
    "\n",
    "prof = Professor()\n",
    "prof.name = \"Dr. Smith\"\n",
    "prof.subject = \"Computer Science\"\n",
    "\n",
    "stud = Student()\n",
    "stud.name = \"Alice\"\n",
    "\n",
    "print(prof.teach(\"Python\"))\n",
    "print(stud.enroll(\"Python\"))\n",
    "print(prof.give_assignment(\"Project 1\"))\n",
    "print(stud.submit_assignment(\"Project 1\"))\n"
   ]
  },
  {
   "cell_type": "code",
   "execution_count": 42,
   "id": "5316f185",
   "metadata": {},
   "outputs": [
    {
     "name": "stdout",
     "output_type": "stream",
     "text": [
      "Booked 2 tickets for Avatar\n",
      "Cancelled 1 ticket for Avatar\n",
      "Movies: {'Avatar': 9, 'Batman': 5}\n"
     ]
    }
   ],
   "source": [
    "class Cinema:\n",
    "    movies = {}\n",
    "    \n",
    "    def book(self, movie, seats):\n",
    "        if movie in self.movies and self.movies[movie] >= seats:\n",
    "            self.movies[movie] -= seats\n",
    "            return f\"Booked {seats} tickets for {movie}\"\n",
    "        return \"Not enough seats or movie not found\"\n",
    "    \n",
    "    def cancel(self, movie, seats):\n",
    "        if movie in self.movies:\n",
    "            self.movies[movie] += seats\n",
    "            return f\"Cancelled {seats} ticket for {movie}\"\n",
    "        return \"Movie not found\"\n",
    "    \n",
    "    def show_movies(self):\n",
    "        print(f\"Movies: {self.movies}\")\n",
    "\n",
    "cinema = Cinema()\n",
    "cinema.movies = {\"Avatar\": 10, \"Batman\": 5}\n",
    "\n",
    "print(cinema.book(\"Avatar\", 2))\n",
    "print(cinema.cancel(\"Avatar\", 1))\n",
    "cinema.show_movies()\n"
   ]
  },
  {
   "cell_type": "code",
   "execution_count": 43,
   "id": "37760b03",
   "metadata": {},
   "outputs": [
    {
     "name": "stdout",
     "output_type": "stream",
     "text": [
      "Burger added\n",
      "Pizza added\n",
      "Pizza price updated to 250\n",
      "Burger removed\n",
      "Menu: {'Pizza': 250}\n"
     ]
    }
   ],
   "source": [
    "class Menu:\n",
    "    items = {}\n",
    "\n",
    "    def add(self, n, p):\n",
    "        self.items[n] = p\n",
    "        return f\"{n} added\"\n",
    "\n",
    "    def remove(self, n):\n",
    "        if n in self.items:\n",
    "            del self.items[n]\n",
    "            return f\"{n} removed\"\n",
    "        return \"Item not found\"\n",
    "\n",
    "    def update(self, n, p):\n",
    "        if n in self.items:\n",
    "            self.items[n] = p\n",
    "            return f\"{n} price updated to {p}\"\n",
    "        return \"Item not found\"\n",
    "\n",
    "    def show(self):\n",
    "        print(\"Menu:\", self.items)\n",
    "\n",
    "\n",
    "menu = Menu()\n",
    "print(menu.add(\"Burger\", 100))\n",
    "print(menu.add(\"Pizza\", 200))\n",
    "print(menu.update(\"Pizza\", 250))\n",
    "print(menu.remove(\"Burger\"))\n",
    "menu.show()\n"
   ]
  }
 ],
 "metadata": {
  "kernelspec": {
   "display_name": "Python 3",
   "language": "python",
   "name": "python3"
  },
  "language_info": {
   "codemirror_mode": {
    "name": "ipython",
    "version": 3
   },
   "file_extension": ".py",
   "mimetype": "text/x-python",
   "name": "python",
   "nbconvert_exporter": "python",
   "pygments_lexer": "ipython3",
   "version": "3.11.0"
  }
 },
 "nbformat": 4,
 "nbformat_minor": 5
}
