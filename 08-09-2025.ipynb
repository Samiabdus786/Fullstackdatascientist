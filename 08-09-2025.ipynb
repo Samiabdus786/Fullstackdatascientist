{
 "cells": [
  {
   "cell_type": "code",
   "execution_count": null,
   "id": "98459195",
   "metadata": {},
   "outputs": [
    {
     "name": "stdout",
     "output_type": "stream",
     "text": [
      "[2, 3, 5, 7, 11, 13, 17, 19]\n"
     ]
    }
   ],
   "source": [
    "n=int(input())\n",
    "def prime(n):\n",
    "    primes = []\n",
    "    for num in range(2, n+1):\n",
    "        c = 0\n",
    "        for i in range(1, num+1):\n",
    "            if num % i == 0:\n",
    "                c += 1\n",
    "        if c == 2:\n",
    "            primes.append(num)\n",
    "    return primes\n",
    "print(prime(n))\n"
   ]
  },
  {
   "cell_type": "code",
   "execution_count": 15,
   "id": "ffc1118c",
   "metadata": {},
   "outputs": [
    {
     "name": "stdout",
     "output_type": "stream",
     "text": [
      "False\n"
     ]
    }
   ],
   "source": [
    "s=input()\n",
    "def is_palindrome(s):\n",
    "    s = ''.join(s.split()).lower()\n",
    "    return s == s[::-1]\n",
    "print(is_palindrome(s))\n"
   ]
  },
  {
   "cell_type": "code",
   "execution_count": 13,
   "id": "fdc161b3",
   "metadata": {},
   "outputs": [
    {
     "name": "stdout",
     "output_type": "stream",
     "text": [
      "True\n"
     ]
    }
   ],
   "source": [
    "a=input()\n",
    "b=input()\n",
    "if sorted(a)==sorted(b):\n",
    "    print(True)"
   ]
  },
  {
   "cell_type": "code",
   "execution_count": 22,
   "id": "1ddb3c2f",
   "metadata": {},
   "outputs": [
    {
     "name": "stdout",
     "output_type": "stream",
     "text": [
      "2\n",
      "3\n"
     ]
    }
   ],
   "source": [
    "s=input()\n",
    "vow='aeiou'\n",
    "c=0\n",
    "for i in s:\n",
    "    if i in vow:\n",
    "        c+=1\n",
    "print(c)\n",
    "print(len(s)-c)\n",
    "\n",
    "    "
   ]
  },
  {
   "cell_type": "code",
   "execution_count": 25,
   "id": "6b3af649",
   "metadata": {},
   "outputs": [
    {
     "name": "stdout",
     "output_type": "stream",
     "text": [
      "amazing\n"
     ]
    }
   ],
   "source": [
    "s=input()\n",
    "def lw(s):\n",
    "    w = s.split()\n",
    "    l = \"\"\n",
    "    for x in w:\n",
    "        if len(x) > len(l):\n",
    "            l = x\n",
    "    return l\n",
    "print(lw(s))\n"
   ]
  },
  {
   "cell_type": "code",
   "execution_count": 30,
   "id": "19689cd7",
   "metadata": {},
   "outputs": [
    {
     "name": "stdout",
     "output_type": "stream",
     "text": [
      "$nE$5y\n"
     ]
    }
   ],
   "source": [
    "import random, string\n",
    "l=int(input())\n",
    "def pwd(l):\n",
    "    ch = string.ascii_letters + string.digits + string.punctuation\n",
    "    return ''.join(random.choice(ch) for _ in range(l))\n",
    "print(pwd(l))\n"
   ]
  },
  {
   "cell_type": "code",
   "execution_count": 35,
   "id": "bc8de932",
   "metadata": {},
   "outputs": [
    {
     "name": "stdout",
     "output_type": "stream",
     "text": [
      "5.0\n",
      "15511210043330985984000000\n",
      "0.42261826174069944\n",
      "0.9063077870366499\n"
     ]
    }
   ],
   "source": [
    "import math\n",
    "n=int(input())\n",
    "print(math.sqrt(n))\n",
    "print(math.factorial(n))\n",
    "print(math.sin(math.radians(n)))\n",
    "print(math.cos(math.radians(n)))\n"
   ]
  },
  {
   "cell_type": "code",
   "execution_count": 70,
   "id": "88e316fb",
   "metadata": {},
   "outputs": [
    {
     "name": "stdout",
     "output_type": "stream",
     "text": [
      "Counter({'lol': 3, 'hi': 2, 'byr': 1})\n"
     ]
    }
   ],
   "source": [
    "from collections import Counter\n",
    "s=input().split()\n",
    "c=Counter(s)\n",
    "print(c)\n"
   ]
  },
  {
   "cell_type": "code",
   "execution_count": 69,
   "id": "b35904de",
   "metadata": {},
   "outputs": [
    {
     "name": "stdout",
     "output_type": "stream",
     "text": [
      "Weather: Snowy, Temp: -3°C\n"
     ]
    }
   ],
   "source": [
    "import random\n",
    "def weather():\n",
    "    w = random.choice([\"Sunny\",\"Rainy\",\"Cloudy\",\"Stormy\",\"Snowy\"])\n",
    "    t = random.randint(-5,45)\n",
    "    return f\"Weather: {w}, Temp: {t}°C\"\n",
    "print(weather())\n"
   ]
  },
  {
   "cell_type": "code",
   "execution_count": 37,
   "id": "b05ff0f0",
   "metadata": {},
   "outputs": [
    {
     "name": "stdout",
     "output_type": "stream",
     "text": [
      "10\n",
      "9\n",
      "8\n",
      "7\n",
      "6\n",
      "5\n",
      "4\n",
      "3\n",
      "2\n",
      "1\n",
      "Time’s up!\n"
     ]
    }
   ],
   "source": [
    "import time\n",
    "seconds=int(input())\n",
    "def countdown(seconds):\n",
    "    while seconds > 0:\n",
    "        print(seconds)\n",
    "        time.sleep(1) \n",
    "        seconds -= 1\n",
    "    print(\"Time’s up!\")\n",
    "countdown(seconds)"
   ]
  }
 ],
 "metadata": {
  "kernelspec": {
   "display_name": "Python 3",
   "language": "python",
   "name": "python3"
  },
  "language_info": {
   "codemirror_mode": {
    "name": "ipython",
    "version": 3
   },
   "file_extension": ".py",
   "mimetype": "text/x-python",
   "name": "python",
   "nbconvert_exporter": "python",
   "pygments_lexer": "ipython3",
   "version": "3.11.0"
  }
 },
 "nbformat": 4,
 "nbformat_minor": 5
}
