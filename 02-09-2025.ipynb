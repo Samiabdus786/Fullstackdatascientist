{
 "cells": [
  {
   "cell_type": "code",
   "execution_count": 12,
   "id": "f6f55be1",
   "metadata": {},
   "outputs": [
    {
     "name": "stdout",
     "output_type": "stream",
     "text": [
      "310\n"
     ]
    }
   ],
   "source": [
    "p = [50, 30, 20]\n",
    "q = [2, 5, 3]\n",
    "tot = sum(p[i] * q[i] for i in range(len(p)))\n",
    "print(tot)\n"
   ]
  },
  {
   "cell_type": "code",
   "execution_count": null,
   "id": "0b60697d",
   "metadata": {},
   "outputs": [
    {
     "name": "stdout",
     "output_type": "stream",
     "text": [
      "19\n",
      "60\n",
      "3\n",
      "60\n"
     ]
    }
   ],
   "source": [
    "a=15\n",
    "b=4\n",
    "print(a+b)\n",
    "print(a*b)\n",
    "print(a//b)\n",
    "print(a*b)"
   ]
  },
  {
   "cell_type": "code",
   "execution_count": 11,
   "id": "c38a8d6d",
   "metadata": {},
   "outputs": [
    {
     "name": "stdout",
     "output_type": "stream",
     "text": [
      "310\n"
     ]
    }
   ],
   "source": [
    "p = [50, 30, 20]\n",
    "q = [2, 5, 3]\n",
    "tot = sum(p[i] * q[i] for i in range(len(p)))\n",
    "print(tot)\n"
   ]
  },
  {
   "cell_type": "code",
   "execution_count": 14,
   "id": "3b90fc99",
   "metadata": {},
   "outputs": [
    {
     "name": "stdout",
     "output_type": "stream",
     "text": [
      "Grade: A (Excellent)\n"
     ]
    }
   ],
   "source": [
    "marks = int(input(\"Enter marks: \"))\n",
    "\n",
    "if marks >= 90:\n",
    "    print(\"Grade: A+ (Outstanding)\")\n",
    "elif marks >= 80:\n",
    "    print(\"Grade: A (Excellent)\")\n",
    "elif marks >= 70:\n",
    "    print(\"Grade: B (Good)\")\n",
    "elif marks >= 60:\n",
    "    print(\"Grade: C (Average)\")\n",
    "else:\n",
    "    print(\"Grade: Fail (Needs Improvement)\")\n"
   ]
  },
  {
   "cell_type": "code",
   "execution_count": 15,
   "id": "dc79f3f8",
   "metadata": {},
   "outputs": [
    {
     "name": "stdout",
     "output_type": "stream",
     "text": [
      "Highest Marks = 90\n",
      "Lowest Marks = 45\n",
      "Average Marks = 71.4\n"
     ]
    }
   ],
   "source": [
    "marks = [45, 78, 88, 56, 90]\n",
    "\n",
    "print(\"Highest Marks =\", max(marks))\n",
    "print(\"Lowest Marks =\", min(marks))\n",
    "print(\"Average Marks =\", sum(marks) / len(marks))\n"
   ]
  },
  {
   "cell_type": "code",
   "execution_count": null,
   "id": "103dfbdb",
   "metadata": {},
   "outputs": [
    {
     "name": "stdout",
     "output_type": "stream",
     "text": [
      "Phone Number of Ravi: 9123456780\n"
     ]
    }
   ],
   "source": [
    "phonebook = {\"Suhel\": 9876543210, \"Ravi\": 9123456780, \"Anita\": 9988776655}\n",
    "\n",
    "name = input(\"Search Name: \")\n",
    "\n",
    "if name in phonebook:\n",
    "    print(f\"Phone Number of {name}: {phonebook[name]}\")\n",
    "else:\n",
    "    print(\"No name!!\")\n"
   ]
  },
  {
   "cell_type": "code",
   "execution_count": 22,
   "id": "272fce60",
   "metadata": {},
   "outputs": [
    {
     "name": "stdout",
     "output_type": "stream",
     "text": [
      "Total Words = 2\n",
      "Total Characters = 6\n",
      "Total Vowels = 2\n"
     ]
    }
   ],
   "source": [
    "s = input(\"Enter sentence: \")\n",
    "words = len(s.split())\n",
    "chars = len(s)\n",
    "vowels = 0\n",
    "for c in s.lower():\n",
    "    if c in \"aeiou\":\n",
    "        vowels += 1\n",
    "print(\"Total Words =\", words)\n",
    "print(\"Total Characters =\", chars)\n",
    "print(\"Total Vowels =\", vowels)\n"
   ]
  },
  {
   "cell_type": "code",
   "execution_count": 1,
   "id": "13f196df",
   "metadata": {},
   "outputs": [
    {
     "name": "stdout",
     "output_type": "stream",
     "text": [
      "Compound Interest = -24994487.5 \n",
      "Total Amount = -24989487.5\n"
     ]
    }
   ],
   "source": [
    "p,r,t=int(input()),float(input()),int(input())\n",
    "typ=input(\"Type: \")\n",
    "if typ==\"Simple\":\n",
    "    si=(p*r*t)/100;print(\"Simple Interest =\",si,\"\\nTotal Amount =\",p+si)\n",
    "else:\n",
    "    ci=p*((1+r/100)**t-p);print(\"Compound Interest =\",round(ci,2),\"\\nTotal Amount =\",round(p+ci,2))\n"
   ]
  },
  {
   "cell_type": "code",
   "execution_count": 2,
   "id": "f4afc4a9",
   "metadata": {},
   "outputs": [
    {
     "name": "stdout",
     "output_type": "stream",
     "text": [
      "Encrypted Message: KHOOR\n"
     ]
    }
   ],
   "source": [
    "msg=input(\"Message: \");k=int(input(\"Shift: \"))\n",
    "enc=\"\".join(chr((ord(c)-65+k)%26+65) if c.isalpha() else c for c in msg.upper())\n",
    "print(\"Encrypted Message:\",enc)\n"
   ]
  },
  {
   "cell_type": "code",
   "execution_count": 3,
   "id": "2bed0c09",
   "metadata": {},
   "outputs": [
    {
     "name": "stdout",
     "output_type": "stream",
     "text": [
      "PIN Verified.\n",
      "Withdrawal Successful. Remaining Balance = 3000\n"
     ]
    }
   ],
   "source": [
    "pin = 1234\n",
    "balance = 5000\n",
    "\n",
    "user_pin = int(input(\"Enter PIN: \"))\n",
    "if user_pin == pin:\n",
    "    withdraw = int(input(\"Enter amount to withdraw: \"))\n",
    "    if withdraw <= balance:\n",
    "        balance -= withdraw\n",
    "        print(\"PIN Verified.\")\n",
    "        print(\"Withdrawal Successful. Remaining Balance =\", balance)\n",
    "    else:\n",
    "        print(\"Insufficient Balance\")\n",
    "else:\n",
    "    print(\"Wrong PIN\")\n"
   ]
  },
  {
   "cell_type": "code",
   "execution_count": 4,
   "id": "c28444f2",
   "metadata": {},
   "outputs": [
    {
     "name": "stdout",
     "output_type": "stream",
     "text": [
      "Current Books: ['Python Basics', 'AI Fundamentals', 'Machine Learning'] \n",
      "Total Books: 3\n"
     ]
    }
   ],
   "source": [
    "books=[\"Python Basics\",\"Data Science\",\"AI Fundamentals\"]\n",
    "books.append(\"Machine Learning\");books.remove(\"Data Science\")\n",
    "print(\"Current Books:\",books,\"\\nTotal Books:\",len(books))\n"
   ]
  }
 ],
 "metadata": {
  "kernelspec": {
   "display_name": "Python 3",
   "language": "python",
   "name": "python3"
  },
  "language_info": {
   "codemirror_mode": {
    "name": "ipython",
    "version": 3
   },
   "file_extension": ".py",
   "mimetype": "text/x-python",
   "name": "python",
   "nbconvert_exporter": "python",
   "pygments_lexer": "ipython3",
   "version": "3.11.0"
  }
 },
 "nbformat": 4,
 "nbformat_minor": 5
}
