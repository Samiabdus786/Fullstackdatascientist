{
 "cells": [
  {
   "cell_type": "code",
   "execution_count": 12,
   "id": "f6f55be1",
   "metadata": {},
   "outputs": [
    {
     "name": "stdout",
     "output_type": "stream",
     "text": [
      "310\n"
     ]
    }
   ],
   "source": [
    "p = [50, 30, 20]\n",
    "q = [2, 5, 3]\n",
    "tot = sum(p[i] * q[i] for i in range(len(p)))\n",
    "print(tot)\n"
   ]
  },
  {
   "cell_type": "code",
   "execution_count": null,
   "id": "0b60697d",
   "metadata": {},
   "outputs": [
    {
     "name": "stdout",
     "output_type": "stream",
     "text": [
      "19\n",
      "60\n",
      "3\n",
      "60\n"
     ]
    }
   ],
   "source": [
    "a=15\n",
    "b=4\n",
    "print(a+b)\n",
    "print(a*b)\n",
    "print(a//b)\n",
    "print(a*b)"
   ]
  },
  {
   "cell_type": "code",
   "execution_count": 11,
   "id": "c38a8d6d",
   "metadata": {},
   "outputs": [
    {
     "name": "stdout",
     "output_type": "stream",
     "text": [
      "310\n"
     ]
    }
   ],
   "source": [
    "p = [50, 30, 20]\n",
    "q = [2, 5, 3]\n",
    "tot = sum(p[i] * q[i] for i in range(len(p)))\n",
    "print(tot)\n"
   ]
  },
  {
   "cell_type": "code",
   "execution_count": 14,
   "id": "3b90fc99",
   "metadata": {},
   "outputs": [
    {
     "name": "stdout",
     "output_type": "stream",
     "text": [
      "Grade: A (Excellent)\n"
     ]
    }
   ],
   "source": [
    "marks = int(input(\"Enter marks: \"))\n",
    "\n",
    "if marks >= 90:\n",
    "    print(\"Grade: A+ (Outstanding)\")\n",
    "elif marks >= 80:\n",
    "    print(\"Grade: A (Excellent)\")\n",
    "elif marks >= 70:\n",
    "    print(\"Grade: B (Good)\")\n",
    "elif marks >= 60:\n",
    "    print(\"Grade: C (Average)\")\n",
    "else:\n",
    "    print(\"Grade: Fail (Needs Improvement)\")\n"
   ]
  },
  {
   "cell_type": "code",
   "execution_count": 15,
   "id": "dc79f3f8",
   "metadata": {},
   "outputs": [
    {
     "name": "stdout",
     "output_type": "stream",
     "text": [
      "Highest Marks = 90\n",
      "Lowest Marks = 45\n",
      "Average Marks = 71.4\n"
     ]
    }
   ],
   "source": [
    "marks = [45, 78, 88, 56, 90]\n",
    "\n",
    "print(\"Highest Marks =\", max(marks))\n",
    "print(\"Lowest Marks =\", min(marks))\n",
    "print(\"Average Marks =\", sum(marks) / len(marks))\n"
   ]
  },
  {
   "cell_type": "code",
   "execution_count": null,
   "id": "103dfbdb",
   "metadata": {},
   "outputs": [
    {
     "name": "stdout",
     "output_type": "stream",
     "text": [
      "Phone Number of Ravi: 9123456780\n"
     ]
    }
   ],
   "source": [
    "phonebook = {\"Suhel\": 9876543210, \"Ravi\": 9123456780, \"Anita\": 9988776655}\n",
    "\n",
    "name = input(\"Search Name: \")\n",
    "\n",
    "if name in phonebook:\n",
    "    print(f\"Phone Number of {name}: {phonebook[name]}\")\n",
    "else:\n",
    "    print(\"No name!!\")\n"
   ]
  },
  {
   "cell_type": "code",
   "execution_count": 22,
   "id": "272fce60",
   "metadata": {},
   "outputs": [
    {
     "name": "stdout",
     "output_type": "stream",
     "text": [
      "Total Words = 2\n",
      "Total Characters = 6\n",
      "Total Vowels = 2\n"
     ]
    }
   ],
   "source": [
    "s = input(\"Enter sentence: \")\n",
    "words = len(s.split())\n",
    "chars = len(s)\n",
    "vowels = 0\n",
    "for c in s.lower():\n",
    "    if c in \"aeiou\":\n",
    "        vowels += 1\n",
    "print(\"Total Words =\", words)\n",
    "print(\"Total Characters =\", chars)\n",
    "print(\"Total Vowels =\", vowels)\n"
   ]
  },
  {
   "cell_type": "code",
   "execution_count": null,
   "id": "13f196df",
   "metadata": {},
   "outputs": [],
   "source": []
  }
 ],
 "metadata": {
  "kernelspec": {
   "display_name": "Python 3",
   "language": "python",
   "name": "python3"
  },
  "language_info": {
   "codemirror_mode": {
    "name": "ipython",
    "version": 3
   },
   "file_extension": ".py",
   "mimetype": "text/x-python",
   "name": "python",
   "nbconvert_exporter": "python",
   "pygments_lexer": "ipython3",
   "version": "3.11.0"
  }
 },
 "nbformat": 4,
 "nbformat_minor": 5
}
